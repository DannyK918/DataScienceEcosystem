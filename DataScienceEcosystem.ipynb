{
 "cells": [
  {
   "cell_type": "markdown",
   "id": "8c467a15-314a-4d4d-8caa-ac66649365f9",
   "metadata": {},
   "source": [
    "# Data Science Tools and Ecosystem"
   ]
  },
  {
   "cell_type": "markdown",
   "id": "d9e123f0-d165-45b4-a20e-f3f109abb002",
   "metadata": {},
   "source": [
    "# Introduction\n",
    "\n",
    "\r\n",
    "In this notebook, Data Science Tools and Ecosystem are summarized.\r\n"
   ]
  },
  {
   "cell_type": "markdown",
   "id": "99bc675d-e383-4a69-99ac-fb8a0d3b12a1",
   "metadata": {},
   "source": [
    "**Objectives**\n",
    "\n",
    "- List popular languages for Data Science.\r\n",
    "- Highlight commonly used libraries in Data Science.\r\n",
    "- Introduce popular tools for Data Science development environments.\r\n",
    "- Provide examples of evaluating arithmetic expressions in Python.\r\n",
    "- Demonstrate converting minutes to hours using Python."
   ]
  },
  {
   "cell_type": "markdown",
   "id": "747061cc-38a7-4b56-b1cc-9e5c3f67ad56",
   "metadata": {},
   "source": [
    "# Data Science Languages\n",
    "\n",
    "Some of the popular languages that Data Scientists use are:\n",
    "\n",
    "1. Python\n",
    "2. R\n",
    "3. SQL\n"
   ]
  },
  {
   "cell_type": "markdown",
   "id": "665962c4-7c91-475f-b8e4-21352dcea778",
   "metadata": {},
   "source": [
    "# Data Science Libraries\r\n",
    "\r\n",
    "Some of the commonly used libraries used by Data Scientists include:\r\n",
    "\r\n",
    "1. NumPy\r\n",
    "2. Pandas\r\n",
    "3. Matplotlib\r\n"
   ]
  },
  {
   "cell_type": "markdown",
   "id": "00c5e7dd-fd51-4fcc-b0ca-7fae4e1b5a9e",
   "metadata": {},
   "source": [
    "# Data Science Tools\r\n",
    "\r\n",
    "| Data Science Tools |\r\n",
    "|--------------------|\r\n",
    "| Jupyter Notebooks  |\r\n",
    "| RStudio            |\r\n",
    "| Spyder             |\r\n"
   ]
  },
  {
   "cell_type": "markdown",
   "id": "a679536e-31c4-431f-92d3-256a46429ecb",
   "metadata": {},
   "source": [
    "### Below are a few examples of evaluating arithmetic expressions in PhytonOutput: 42.\r\n"
   ]
  },
  {
   "cell_type": "code",
   "execution_count": 40,
   "id": "e6440fc0-25f9-4ddd-92a9-46390d4a9c08",
   "metadata": {},
   "outputs": [
    {
     "name": "stdout",
     "output_type": "stream",
     "text": [
      "Result: 17\n"
     ]
    }
   ],
   "source": [
    "# This is a simple arithmetic expression to multiply then add integers.\n",
    "result = (3 * 4) + 5\n",
    "print(\"Result:\", result)  # Output: 17\n"
   ]
  },
  {
   "cell_type": "code",
   "execution_count": 42,
   "id": "ad024f5f-a2d9-4d61-9b11-d89a8fcf8f5c",
   "metadata": {},
   "outputs": [
    {
     "name": "stdout",
     "output_type": "stream",
     "text": [
      "200 minutes is equal to 3.3333333333333335 hours.\n"
     ]
    }
   ],
   "source": [
    "# This will convert 200 minutes to hours by dividing by 60.\n",
    "minutes = 200\n",
    "hours = minutes / 60\n",
    "print(\"200 minutes is equal to\", hours, \"hours.\")  # Output: 3.3333333333333335 hours\n"
   ]
  },
  {
   "cell_type": "markdown",
   "id": "32c71ecc-9783-4103-b9d6-40b1f2d269a9",
   "metadata": {},
   "source": [
    "## Author\n",
    "\n",
    "Jenikay De Beer"
   ]
  }
 ],
 "metadata": {
  "kernelspec": {
   "display_name": "anaconda-panel-2023.05-py310",
   "language": "python",
   "name": "conda-env-anaconda-panel-2023.05-py310-py"
  },
  "language_info": {
   "codemirror_mode": {
    "name": "ipython",
    "version": 3
   },
   "file_extension": ".py",
   "mimetype": "text/x-python",
   "name": "python",
   "nbconvert_exporter": "python",
   "pygments_lexer": "ipython3",
   "version": "3.11.5"
  }
 },
 "nbformat": 4,
 "nbformat_minor": 5
}
